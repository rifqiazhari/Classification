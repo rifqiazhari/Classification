{
 "cells": [
  {
   "cell_type": "markdown",
   "id": "a251dc05",
   "metadata": {},
   "source": [
    "## Table of Contents\n",
    "\n",
    "- [1. Introduction and Data Preprocessing](#1)\n",
    "    - [1.1 Problem Statement](#1.1)\n",
    "    - [1.2 Packages](#1.2)\n",
    "    - [1.3 Read or Import](#1.3)\n",
    "    - [1.4 Data Summary](#1.4)\n",
    "    - [1.5 Data Preparation](#1.5)\n",
    "- [2. Exploratory Data Analysis](#2)\n",
    "    - [2.1 Target Variable](#2.1)\n",
    "    - [2.2 Features Correlation with Target](#2.2)\n",
    "    - [2.3 Feature Variable](#2.3)\n",
    "        - [2.3.1 Alcohol](#2.3.1)\n",
    "        - [2.3.2 Volatile Acidity](#2.3.2)\n",
    "        - [2.3.3 Residual Sugar](#2.3.3)\n",
    "    - [2.4 Multicollinearity](#2.4)\n",
    "- [3. Feature Engineering](#3)\n",
    "    - [3.1 Missing Values](#3.1)\n",
    "- [4. Model](#4)\n",
    "    - [4.1 Logistic Regression](#4.1)\n",
    "    - [4.2 Random Forest](#4.2)\n",
    "- [5. Conclusion](#5)"
   ]
  },
  {
   "cell_type": "markdown",
   "id": "b6d2354c",
   "metadata": {},
   "source": [
    "<a name='1'></a>\n",
    "# 1. Introduction"
   ]
  },
  {
   "cell_type": "markdown",
   "id": "ad275d6d",
   "metadata": {},
   "source": [
    "<a name='1.1'></a>\n",
    "## 1.1 Problem Statement\n",
    "\n",
    "We want to predict which medication or proper drug that suitable to the patients with certain historical data. We will use two classification algorithm, decision tree and KNN to predict the results."
   ]
  },
  {
   "cell_type": "markdown",
   "id": "a0b8607b",
   "metadata": {},
   "source": [
    "Some researchers have collected data about a set of patients, all of whom suffered from the same illness. During their course of treatment, each patient responded to one of 5 medications, Drug A, Drug B, Drug c, Drug x and y.\n",
    "\n",
    "We want to build a model to find out which drug might be appropriate for a future patient with the same illness.\n",
    "\n",
    "The feature sets of this dataset are Age, Sex, Blood Pressure, and Cholesterol of patients, and the target is the drug that each patient responded to.\n",
    "\n",
    "It is a sample of binary classifier, and I can use the training part of the dataset to build a decision tree, and then use it to predict the class of a unknown patient, or to prescribe it to a new patient."
   ]
  },
  {
   "cell_type": "markdown",
   "id": "58324cbb",
   "metadata": {},
   "source": [
    "<a name='1.2'></a>\n",
    "## 1.2 Packages"
   ]
  },
  {
   "cell_type": "code",
   "execution_count": 1,
   "id": "2ebf1366",
   "metadata": {},
   "outputs": [],
   "source": [
    "import numpy as np \n",
    "import pandas as pd\n",
    "from sklearn.tree import DecisionTreeClassifier"
   ]
  },
  {
   "cell_type": "markdown",
   "id": "c1720f2e",
   "metadata": {},
   "source": [
    "<a name='1.3'></a>\n",
    "## 1.3 Read or Import"
   ]
  },
  {
   "cell_type": "code",
   "execution_count": 2,
   "id": "883ab89f",
   "metadata": {},
   "outputs": [],
   "source": [
    "df = pd.read_csv(\"drug200.csv\")"
   ]
  },
  {
   "cell_type": "markdown",
   "id": "78b8d044",
   "metadata": {},
   "source": [
    "<a name='1.4'></a>\n",
    "## 1.4 Data Summary"
   ]
  },
  {
   "cell_type": "code",
   "execution_count": 3,
   "id": "009bde74",
   "metadata": {},
   "outputs": [
    {
     "data": {
      "text/html": [
       "<div>\n",
       "<style scoped>\n",
       "    .dataframe tbody tr th:only-of-type {\n",
       "        vertical-align: middle;\n",
       "    }\n",
       "\n",
       "    .dataframe tbody tr th {\n",
       "        vertical-align: top;\n",
       "    }\n",
       "\n",
       "    .dataframe thead th {\n",
       "        text-align: right;\n",
       "    }\n",
       "</style>\n",
       "<table border=\"1\" class=\"dataframe\">\n",
       "  <thead>\n",
       "    <tr style=\"text-align: right;\">\n",
       "      <th></th>\n",
       "      <th>Age</th>\n",
       "      <th>Sex</th>\n",
       "      <th>BP</th>\n",
       "      <th>Cholesterol</th>\n",
       "      <th>Na_to_K</th>\n",
       "      <th>Drug</th>\n",
       "    </tr>\n",
       "  </thead>\n",
       "  <tbody>\n",
       "    <tr>\n",
       "      <th>0</th>\n",
       "      <td>23</td>\n",
       "      <td>F</td>\n",
       "      <td>HIGH</td>\n",
       "      <td>HIGH</td>\n",
       "      <td>25.355</td>\n",
       "      <td>drugY</td>\n",
       "    </tr>\n",
       "    <tr>\n",
       "      <th>1</th>\n",
       "      <td>47</td>\n",
       "      <td>M</td>\n",
       "      <td>LOW</td>\n",
       "      <td>HIGH</td>\n",
       "      <td>13.093</td>\n",
       "      <td>drugC</td>\n",
       "    </tr>\n",
       "    <tr>\n",
       "      <th>2</th>\n",
       "      <td>47</td>\n",
       "      <td>M</td>\n",
       "      <td>LOW</td>\n",
       "      <td>HIGH</td>\n",
       "      <td>10.114</td>\n",
       "      <td>drugC</td>\n",
       "    </tr>\n",
       "    <tr>\n",
       "      <th>3</th>\n",
       "      <td>28</td>\n",
       "      <td>F</td>\n",
       "      <td>NORMAL</td>\n",
       "      <td>HIGH</td>\n",
       "      <td>7.798</td>\n",
       "      <td>drugX</td>\n",
       "    </tr>\n",
       "    <tr>\n",
       "      <th>4</th>\n",
       "      <td>61</td>\n",
       "      <td>F</td>\n",
       "      <td>LOW</td>\n",
       "      <td>HIGH</td>\n",
       "      <td>18.043</td>\n",
       "      <td>drugY</td>\n",
       "    </tr>\n",
       "  </tbody>\n",
       "</table>\n",
       "</div>"
      ],
      "text/plain": [
       "   Age Sex      BP Cholesterol  Na_to_K   Drug\n",
       "0   23   F    HIGH        HIGH   25.355  drugY\n",
       "1   47   M     LOW        HIGH   13.093  drugC\n",
       "2   47   M     LOW        HIGH   10.114  drugC\n",
       "3   28   F  NORMAL        HIGH    7.798  drugX\n",
       "4   61   F     LOW        HIGH   18.043  drugY"
      ]
     },
     "execution_count": 3,
     "metadata": {},
     "output_type": "execute_result"
    }
   ],
   "source": [
    "# take a look at the dataset\n",
    "df.head()"
   ]
  },
  {
   "cell_type": "code",
   "execution_count": 4,
   "id": "1f2329ca",
   "metadata": {},
   "outputs": [
    {
     "name": "stdout",
     "output_type": "stream",
     "text": [
      "<class 'pandas.core.frame.DataFrame'>\n",
      "RangeIndex: 200 entries, 0 to 199\n",
      "Data columns (total 6 columns):\n",
      " #   Column       Non-Null Count  Dtype  \n",
      "---  ------       --------------  -----  \n",
      " 0   Age          200 non-null    int64  \n",
      " 1   Sex          200 non-null    object \n",
      " 2   BP           200 non-null    object \n",
      " 3   Cholesterol  200 non-null    object \n",
      " 4   Na_to_K      200 non-null    float64\n",
      " 5   Drug         200 non-null    object \n",
      "dtypes: float64(1), int64(1), object(4)\n",
      "memory usage: 9.5+ KB\n"
     ]
    }
   ],
   "source": [
    "df.info()"
   ]
  },
  {
   "cell_type": "code",
   "execution_count": 5,
   "id": "b52a92d0",
   "metadata": {},
   "outputs": [
    {
     "name": "stdout",
     "output_type": "stream",
     "text": [
      "There are 2 numerical features:\n",
      " ['Age', 'Na_to_K']\n"
     ]
    }
   ],
   "source": [
    "numCols = list(df.select_dtypes(exclude='object').columns)\n",
    "print(f\"There are {len(numCols)} numerical features:\\n\", numCols)"
   ]
  },
  {
   "cell_type": "code",
   "execution_count": 6,
   "id": "3479c61c",
   "metadata": {},
   "outputs": [
    {
     "name": "stdout",
     "output_type": "stream",
     "text": [
      "There are 4 categorical features:\n",
      " ['Sex', 'BP', 'Cholesterol', 'Drug']\n"
     ]
    }
   ],
   "source": [
    "catCols = list(df.select_dtypes(include='object').columns)\n",
    "print(f\"There are {len(catCols)} categorical features:\\n\", catCols)"
   ]
  },
  {
   "cell_type": "markdown",
   "id": "ed6672fb",
   "metadata": {},
   "source": [
    "<a name='2'></a>\n",
    "# 2. Exploratory Data Analysis"
   ]
  },
  {
   "cell_type": "markdown",
   "id": "ba55cfea",
   "metadata": {},
   "source": [
    "<a name='2.1'></a>\n",
    "## 2.1 Target Variable"
   ]
  },
  {
   "cell_type": "markdown",
   "id": "f51f6282",
   "metadata": {},
   "source": [
    "There are 5 types of drugs"
   ]
  },
  {
   "cell_type": "code",
   "execution_count": 7,
   "id": "ec22b965",
   "metadata": {},
   "outputs": [
    {
     "data": {
      "text/plain": [
       "drugY    91\n",
       "drugX    54\n",
       "drugA    23\n",
       "drugC    16\n",
       "drugB    16\n",
       "Name: Drug, dtype: int64"
      ]
     },
     "execution_count": 7,
     "metadata": {},
     "output_type": "execute_result"
    }
   ],
   "source": [
    "df['Drug'].value_counts()"
   ]
  },
  {
   "cell_type": "markdown",
   "id": "ae8bf5a1",
   "metadata": {},
   "source": [
    "## 2.2 Features Correlation with Target"
   ]
  },
  {
   "cell_type": "code",
   "execution_count": 28,
   "id": "f0a655e5",
   "metadata": {},
   "outputs": [
    {
     "data": {
      "text/plain": [
       "array([[<AxesSubplot:title={'center':'income'}>]], dtype=object)"
      ]
     },
     "execution_count": 28,
     "metadata": {},
     "output_type": "execute_result"
    },
    {
     "data": {
      "image/png": "[encoded data removed]",
      "text/plain": [
       "<Figure size 432x288 with 1 Axes>"
      ]
     },
     "metadata": {
      "needs_background": "light"
     },
     "output_type": "display_data"
    }
   ],
   "source": [
    "df.hist(column='income', bins=50)"
   ]
  },
  {
   "cell_type": "markdown",
   "id": "b51c38ab",
   "metadata": {},
   "source": [
    "<a name='1.5'></a>\n",
    "# 3. Data Preparation for Machine Learning"
   ]
  },
  {
   "cell_type": "markdown",
   "id": "cf82a3eb",
   "metadata": {},
   "source": [
    "<a name='1.5'></a>\n",
    "## 3.1 Data Adjustment"
   ]
  },
  {
   "cell_type": "markdown",
   "id": "ef4b5759",
   "metadata": {},
   "source": [
    "To use scikit-learn library, we have to convert the Pandas data frame to a Numpy array:"
   ]
  },
  {
   "cell_type": "code",
   "execution_count": 16,
   "id": "2939dad9",
   "metadata": {},
   "outputs": [
    {
     "data": {
      "text/html": [
       "<div>\n",
       "<style scoped>\n",
       "    .dataframe tbody tr th:only-of-type {\n",
       "        vertical-align: middle;\n",
       "    }\n",
       "\n",
       "    .dataframe tbody tr th {\n",
       "        vertical-align: top;\n",
       "    }\n",
       "\n",
       "    .dataframe thead th {\n",
       "        text-align: right;\n",
       "    }\n",
       "</style>\n",
       "<table border=\"1\" class=\"dataframe\">\n",
       "  <thead>\n",
       "    <tr style=\"text-align: right;\">\n",
       "      <th></th>\n",
       "      <th>Age</th>\n",
       "      <th>Sex</th>\n",
       "      <th>BP</th>\n",
       "      <th>Cholesterol</th>\n",
       "      <th>Na_to_K</th>\n",
       "      <th>Drug</th>\n",
       "    </tr>\n",
       "  </thead>\n",
       "  <tbody>\n",
       "    <tr>\n",
       "      <th>0</th>\n",
       "      <td>23</td>\n",
       "      <td>F</td>\n",
       "      <td>HIGH</td>\n",
       "      <td>HIGH</td>\n",
       "      <td>25.355</td>\n",
       "      <td>drugY</td>\n",
       "    </tr>\n",
       "    <tr>\n",
       "      <th>1</th>\n",
       "      <td>47</td>\n",
       "      <td>M</td>\n",
       "      <td>LOW</td>\n",
       "      <td>HIGH</td>\n",
       "      <td>13.093</td>\n",
       "      <td>drugC</td>\n",
       "    </tr>\n",
       "    <tr>\n",
       "      <th>2</th>\n",
       "      <td>47</td>\n",
       "      <td>M</td>\n",
       "      <td>LOW</td>\n",
       "      <td>HIGH</td>\n",
       "      <td>10.114</td>\n",
       "      <td>drugC</td>\n",
       "    </tr>\n",
       "  </tbody>\n",
       "</table>\n",
       "</div>"
      ],
      "text/plain": [
       "   Age Sex    BP Cholesterol  Na_to_K   Drug\n",
       "0   23   F  HIGH        HIGH   25.355  drugY\n",
       "1   47   M   LOW        HIGH   13.093  drugC\n",
       "2   47   M   LOW        HIGH   10.114  drugC"
      ]
     },
     "execution_count": 16,
     "metadata": {},
     "output_type": "execute_result"
    }
   ],
   "source": [
    "df[0:3]"
   ]
  },
  {
   "cell_type": "code",
   "execution_count": 20,
   "id": "0f4ab3b3",
   "metadata": {},
   "outputs": [
    {
     "data": {
      "text/plain": [
       "array([[23, 'F', 'HIGH', 'HIGH', 25.355],\n",
       "       [47, 'M', 'LOW', 'HIGH', 13.093],\n",
       "       [47, 'M', 'LOW', 'HIGH', 10.114]], dtype=object)"
      ]
     },
     "execution_count": 20,
     "metadata": {},
     "output_type": "execute_result"
    }
   ],
   "source": [
    "x = df[['Age', 'Sex', 'BP', 'Cholesterol', 'Na_to_K']].values\n",
    "x[0:3]"
   ]
  },
  {
   "cell_type": "markdown",
   "id": "e4af79cd",
   "metadata": {},
   "source": [
    "As you may figure out, some features in this dataset are categorical such as Sex or BP. Unfortunately, Sklearn Decision Trees do not handle categorical variables. But still we can convert these features to numerical values. pandas.get_dummies() Convert categorical variable into dummy/indicator variables."
   ]
  },
  {
   "cell_type": "code",
   "execution_count": 21,
   "id": "b692dbc1",
   "metadata": {},
   "outputs": [
    {
     "data": {
      "text/plain": [
       "array([[23, 0, 0, 0, 25.355],\n",
       "       [47, 1, 1, 0, 13.093],\n",
       "       [47, 1, 1, 0, 10.114],\n",
       "       [28, 0, 2, 0, 7.798],\n",
       "       [61, 0, 1, 0, 18.043],\n",
       "       [22, 0, 2, 0, 8.607],\n",
       "       [49, 0, 2, 0, 16.275],\n",
       "       [41, 1, 1, 0, 11.037],\n",
       "       [60, 1, 2, 0, 15.171]], dtype=object)"
      ]
     },
     "execution_count": 21,
     "metadata": {},
     "output_type": "execute_result"
    }
   ],
   "source": [
    "from sklearn import preprocessing\n",
    "le_sex = preprocessing.LabelEncoder()\n",
    "le_sex.fit(['F','M'])\n",
    "x[:,1] = le_sex.transform(x[:,1]) \n",
    "\n",
    "\n",
    "le_BP = preprocessing.LabelEncoder()\n",
    "le_BP.fit([ 'LOW', 'NORMAL', 'HIGH'])\n",
    "x[:,2] = le_BP.transform(x[:,2])\n",
    "\n",
    "\n",
    "le_Chol = preprocessing.LabelEncoder()\n",
    "le_Chol.fit([ 'NORMAL', 'HIGH'])\n",
    "x[:,3] = le_Chol.transform(x[:,3]) \n",
    "\n",
    "x[0:9]"
   ]
  },
  {
   "cell_type": "code",
   "execution_count": 11,
   "id": "581d2c7a",
   "metadata": {},
   "outputs": [
    {
     "data": {
      "text/plain": [
       "array(['drugY', 'drugC', 'drugC', 'drugX', 'drugY'], dtype=object)"
      ]
     },
     "execution_count": 11,
     "metadata": {},
     "output_type": "execute_result"
    }
   ],
   "source": [
    "y = df['Drug'].values\n",
    "y[0:5]"
   ]
  },
  {
   "cell_type": "markdown",
   "id": "7a271c82",
   "metadata": {},
   "source": [
    "<a name='1.5'></a>\n",
    "## 3.2 Data Normalization (Standardization)"
   ]
  },
  {
   "cell_type": "markdown",
   "id": "99b84d9c",
   "metadata": {},
   "source": [
    "<a name='1.5'></a>\n",
    "## 3.3 Data Split"
   ]
  },
  {
   "cell_type": "code",
   "execution_count": 22,
   "id": "d3ead796",
   "metadata": {},
   "outputs": [
    {
     "name": "stdout",
     "output_type": "stream",
     "text": [
      "train_x: (140, 5) (70.0%)\n",
      "train_y: (140,) (70.0%)\n",
      "test_x: (60, 5) (30.0%)\n",
      "test_y: (60,) (30.0%)\n"
     ]
    }
   ],
   "source": [
    "from sklearn.model_selection import train_test_split\n",
    "\n",
    "#70/30 split\n",
    "train_x, test_x, train_y, test_y = train_test_split(x, y, test_size=0.3, random_state=3)\n",
    "\n",
    "print(f'train_x: {train_x.shape} ({round(len(train_x)/len(df), 1) * 100}%)')\n",
    "print(f'train_y: {train_y.shape} ({round(len(train_y)/len(df), 1) * 100}%)')\n",
    "print(f'test_x: {test_x.shape} ({round(len(test_x)/len(df), 1) * 100}%)')\n",
    "print(f'test_y: {test_y.shape} ({round(len(test_y)/len(df), 1) * 100}%)')"
   ]
  },
  {
   "cell_type": "markdown",
   "id": "994332aa",
   "metadata": {},
   "source": [
    "<a name='4'></a>\n",
    "# 4. Model"
   ]
  },
  {
   "cell_type": "markdown",
   "id": "91dafca7",
   "metadata": {},
   "source": [
    "<a name='4'></a>\n",
    "## 4.1 Train"
   ]
  },
  {
   "cell_type": "code",
   "execution_count": 23,
   "id": "9b3b2a86",
   "metadata": {},
   "outputs": [
    {
     "data": {
      "text/plain": [
       "DecisionTreeClassifier(criterion='entropy', max_depth=4)"
      ]
     },
     "execution_count": 23,
     "metadata": {},
     "output_type": "execute_result"
    }
   ],
   "source": [
    "drugTree = DecisionTreeClassifier(criterion=\"entropy\", max_depth = 4)\n",
    "drugTree # it shows the default parameters"
   ]
  },
  {
   "cell_type": "code",
   "execution_count": 32,
   "id": "3e08f147",
   "metadata": {},
   "outputs": [
    {
     "data": {
      "text/plain": [
       "DecisionTreeClassifier(criterion='entropy', max_depth=4)"
      ]
     },
     "execution_count": 32,
     "metadata": {},
     "output_type": "execute_result"
    }
   ],
   "source": [
    "drugTree.fit(train_x,train_y)"
   ]
  },
  {
   "cell_type": "markdown",
   "id": "e74d0ef8",
   "metadata": {},
   "source": [
    "<a name='4'></a>\n",
    "## 4.2 Test"
   ]
  },
  {
   "cell_type": "code",
   "execution_count": 27,
   "id": "d0df08a5",
   "metadata": {},
   "outputs": [],
   "source": [
    "predTree = drugTree.predict(test_x)"
   ]
  },
  {
   "cell_type": "markdown",
   "id": "05c4e421",
   "metadata": {},
   "source": [
    "<a name='5'></a>\n",
    "# 5. Model Evaluation"
   ]
  },
  {
   "cell_type": "code",
   "execution_count": 30,
   "id": "5dc6117f",
   "metadata": {},
   "outputs": [
    {
     "name": "stdout",
     "output_type": "stream",
     "text": [
      "['drugY' 'drugX' 'drugX' 'drugX' 'drugX' 'drugC' 'drugY' 'drugA' 'drugB']\n",
      "['drugY' 'drugX' 'drugX' 'drugX' 'drugX' 'drugC' 'drugY' 'drugA' 'drugB']\n"
     ]
    }
   ],
   "source": [
    "print (predTree [0:9])\n",
    "print (test_y [0:9])"
   ]
  },
  {
   "cell_type": "code",
   "execution_count": 31,
   "id": "c25a6302",
   "metadata": {},
   "outputs": [
    {
     "name": "stdout",
     "output_type": "stream",
     "text": [
      "DecisionTrees's Accuracy:  0.9833333333333333\n"
     ]
    }
   ],
   "source": [
    "from sklearn import metrics\n",
    "import matplotlib.pyplot as plt\n",
    "print(\"DecisionTrees's Accuracy: \", metrics.accuracy_score(test_y, predTree))"
   ]
  },
  {
   "cell_type": "markdown",
   "id": "7262b75c",
   "metadata": {},
   "source": [
    "<a name='5'></a>\n",
    "# 6. KNN"
   ]
  },
  {
   "cell_type": "code",
   "execution_count": 33,
   "id": "8580cafc",
   "metadata": {},
   "outputs": [
    {
     "data": {
      "image/png": "[encoded data removed]",
      "text/plain": [
       "<Figure size 936x216 with 1 Axes>"
      ]
     },
     "metadata": {
      "needs_background": "light"
     },
     "output_type": "display_data"
    }
   ],
   "source": [
    "from sklearn.neighbors import KNeighborsClassifier\n",
    "\n",
    "k_range = range(1,50)\n",
    "accuracy = []\n",
    "#Train Model and Predict  \n",
    "for k in k_range:\n",
    "    neigh = KNeighborsClassifier(n_neighbors = k).fit(train_x, train_y)\n",
    "    yhat_train = neigh.predict(train_x)\n",
    "    accuracy.append(metrics.accuracy_score(train_y, yhat_train))\n",
    "    \n",
    "plt.figure(figsize=(13,3))\n",
    "plt.xlabel('K')\n",
    "plt.ylabel('Accuracy')\n",
    "plt.scatter(k_range, accuracy, color='purple')\n",
    "plt.plot(k_range, accuracy, color='pink')\n",
    "plt.xticks(range(0,50));"
   ]
  },
  {
   "cell_type": "code",
   "execution_count": 34,
   "id": "03866246",
   "metadata": {},
   "outputs": [
    {
     "data": {
      "image/png": "[encoded data removed]",
      "text/plain": [
       "<Figure size 936x216 with 1 Axes>"
      ]
     },
     "metadata": {
      "needs_background": "light"
     },
     "output_type": "display_data"
    }
   ],
   "source": [
    "from sklearn.neighbors import KNeighborsClassifier\n",
    "\n",
    "k_range = range(1,50)\n",
    "accuracy = []\n",
    "#Train Model and Predict  \n",
    "for k in k_range:\n",
    "    neigh = KNeighborsClassifier(n_neighbors = k).fit(train_x, train_y)\n",
    "    yhat = neigh.predict(test_x)\n",
    "    accuracy.append(metrics.accuracy_score(test_y, yhat))\n",
    "    \n",
    "plt.figure(figsize=(13,3))\n",
    "plt.xlabel('K')\n",
    "plt.ylabel('Accuracy')\n",
    "plt.scatter(k_range, accuracy, color='purple')\n",
    "plt.plot(k_range, accuracy, color='pink')\n",
    "plt.xticks(range(0,50));"
   ]
  },
  {
   "cell_type": "code",
   "execution_count": 35,
   "id": "d953e6d9",
   "metadata": {},
   "outputs": [
    {
     "name": "stdout",
     "output_type": "stream",
     "text": [
      "Train set Accuracy:  0.7071428571428572\n",
      "Test set Accuracy:  0.7\n"
     ]
    }
   ],
   "source": [
    "neigh = KNeighborsClassifier(n_neighbors = 22).fit(train_x,train_y)\n",
    "yhat = neigh.predict(test_x)\n",
    "print(\"Train set Accuracy: \", metrics.accuracy_score(train_y, neigh.predict(train_x)))\n",
    "print(\"Test set Accuracy: \", metrics.accuracy_score(test_y, yhat))"
   ]
  },
  {
   "cell_type": "code",
   "execution_count": null,
   "id": "e7225221",
   "metadata": {},
   "outputs": [],
   "source": []
  }
 ],
 "metadata": {
  "kernelspec": {
   "display_name": "Python 3 (ipykernel)",
   "language": "python",
   "name": "python3"
  },
  "language_info": {
   "codemirror_mode": {
    "name": "ipython",
    "version": 3
   },
   "file_extension": ".py",
   "mimetype": "text/x-python",
   "name": "python",
   "nbconvert_exporter": "python",
   "pygments_lexer": "ipython3",
   "version": "3.9.12"
  }
 },
 "nbformat": 4,
 "nbformat_minor": 5
}
