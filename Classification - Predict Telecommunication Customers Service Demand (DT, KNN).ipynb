{
 "cells": [
  {
   "cell_type": "markdown",
   "id": "a251dc05",
   "metadata": {},
   "source": [
    "## Table of Contents\n",
    "\n",
    "- [1. Introduction and Data Preprocessing](#1)\n",
    "    - [1.1 Problem Statement](#1.1)\n",
    "    - [1.2 Packages](#1.2)\n",
    "    - [1.3 Read or Import](#1.3)\n",
    "    - [1.4 Data Summary](#1.4)\n",
    "    - [1.5 Data Preparation](#1.5)\n",
    "- [2. Exploratory Data Analysis](#2)\n",
    "    - [2.1 Target Variable](#2.1)\n",
    "    - [2.2 Features Correlation with Target](#2.2)\n",
    "    - [2.3 Feature Variable](#2.3)\n",
    "        - [2.3.1 Alcohol](#2.3.1)\n",
    "        - [2.3.2 Volatile Acidity](#2.3.2)\n",
    "        - [2.3.3 Residual Sugar](#2.3.3)\n",
    "    - [2.4 Multicollinearity](#2.4)\n",
    "- [3. Feature Engineering](#3)\n",
    "    - [3.1 Missing Values](#3.1)\n",
    "- [4. Model](#4)\n",
    "    - [4.1 Logistic Regression](#4.1)\n",
    "    - [4.2 Random Forest](#4.2)\n",
    "- [5. Conclusion](#5)"
   ]
  },
  {
   "cell_type": "markdown",
   "id": "b6d2354c",
   "metadata": {},
   "source": [
    "<a name='1'></a>\n",
    "# 1. Introduction"
   ]
  },
  {
   "cell_type": "markdown",
   "id": "ad275d6d",
   "metadata": {},
   "source": [
    "<a name='1.1'></a>\n",
    "## 1.1 Problem Statement"
   ]
  },
  {
   "cell_type": "markdown",
   "id": "7f7d96ec",
   "metadata": {},
   "source": [
    "Imagine a telecommunications provider has segmented its customer base by service usage patterns, categorizing the customers into four groups. If demographic data can be used to predict group membership, the company can customize offers for individual prospective customers. It is a classification problem. That is, given the dataset, with predefined labels, we need to build a model to be used to predict class of a new or unknown case.\n",
    "\n",
    "The example focuses on using demographic data, such as region, age, and marital, to predict usage patterns.\n",
    "\n",
    "The target field, called custcat, has four possible values that correspond to the four customer groups, as follows: 1- Basic Service 2- E-Service 3- Plus Service 4- Total Service\n",
    "\n",
    "Our objective is to build a classifier, to predict the class of unknown cases. We will use a specific type of classification called K nearest neighbour."
   ]
  },
  {
   "cell_type": "markdown",
   "id": "58324cbb",
   "metadata": {},
   "source": [
    "<a name='1.2'></a>\n",
    "## 1.2 Packages"
   ]
  },
  {
   "cell_type": "code",
   "execution_count": 4,
   "id": "2ebf1366",
   "metadata": {},
   "outputs": [],
   "source": [
    "import itertools\n",
    "import numpy as np\n",
    "import matplotlib.pyplot as plt\n",
    "from matplotlib.ticker import NullFormatter\n",
    "import pandas as pd\n",
    "import numpy as np\n",
    "import matplotlib.ticker as ticker\n",
    "from sklearn import preprocessing\n",
    "%matplotlib inline"
   ]
  },
  {
   "cell_type": "markdown",
   "id": "c1720f2e",
   "metadata": {},
   "source": [
    "<a name='1.3'></a>\n",
    "## 1.3 Read or Import"
   ]
  },
  {
   "cell_type": "code",
   "execution_count": 5,
   "id": "883ab89f",
   "metadata": {},
   "outputs": [],
   "source": [
    "df = pd.read_csv(\"teleCust1000t.csv\")"
   ]
  },
  {
   "cell_type": "markdown",
   "id": "78b8d044",
   "metadata": {},
   "source": [
    "<a name='1.4'></a>\n",
    "## 1.4 Data Summary"
   ]
  },
  {
   "cell_type": "code",
   "execution_count": 6,
   "id": "009bde74",
   "metadata": {},
   "outputs": [
    {
     "data": {
      "text/html": [
       "<div>\n",
       "<style scoped>\n",
       "    .dataframe tbody tr th:only-of-type {\n",
       "        vertical-align: middle;\n",
       "    }\n",
       "\n",
       "    .dataframe tbody tr th {\n",
       "        vertical-align: top;\n",
       "    }\n",
       "\n",
       "    .dataframe thead th {\n",
       "        text-align: right;\n",
       "    }\n",
       "</style>\n",
       "<table border=\"1\" class=\"dataframe\">\n",
       "  <thead>\n",
       "    <tr style=\"text-align: right;\">\n",
       "      <th></th>\n",
       "      <th>region</th>\n",
       "      <th>tenure</th>\n",
       "      <th>age</th>\n",
       "      <th>marital</th>\n",
       "      <th>address</th>\n",
       "      <th>income</th>\n",
       "      <th>ed</th>\n",
       "      <th>employ</th>\n",
       "      <th>retire</th>\n",
       "      <th>gender</th>\n",
       "      <th>reside</th>\n",
       "      <th>custcat</th>\n",
       "    </tr>\n",
       "  </thead>\n",
       "  <tbody>\n",
       "    <tr>\n",
       "      <th>0</th>\n",
       "      <td>2</td>\n",
       "      <td>13</td>\n",
       "      <td>44</td>\n",
       "      <td>1</td>\n",
       "      <td>9</td>\n",
       "      <td>64.0</td>\n",
       "      <td>4</td>\n",
       "      <td>5</td>\n",
       "      <td>0.0</td>\n",
       "      <td>0</td>\n",
       "      <td>2</td>\n",
       "      <td>1</td>\n",
       "    </tr>\n",
       "    <tr>\n",
       "      <th>1</th>\n",
       "      <td>3</td>\n",
       "      <td>11</td>\n",
       "      <td>33</td>\n",
       "      <td>1</td>\n",
       "      <td>7</td>\n",
       "      <td>136.0</td>\n",
       "      <td>5</td>\n",
       "      <td>5</td>\n",
       "      <td>0.0</td>\n",
       "      <td>0</td>\n",
       "      <td>6</td>\n",
       "      <td>4</td>\n",
       "    </tr>\n",
       "    <tr>\n",
       "      <th>2</th>\n",
       "      <td>3</td>\n",
       "      <td>68</td>\n",
       "      <td>52</td>\n",
       "      <td>1</td>\n",
       "      <td>24</td>\n",
       "      <td>116.0</td>\n",
       "      <td>1</td>\n",
       "      <td>29</td>\n",
       "      <td>0.0</td>\n",
       "      <td>1</td>\n",
       "      <td>2</td>\n",
       "      <td>3</td>\n",
       "    </tr>\n",
       "    <tr>\n",
       "      <th>3</th>\n",
       "      <td>2</td>\n",
       "      <td>33</td>\n",
       "      <td>33</td>\n",
       "      <td>0</td>\n",
       "      <td>12</td>\n",
       "      <td>33.0</td>\n",
       "      <td>2</td>\n",
       "      <td>0</td>\n",
       "      <td>0.0</td>\n",
       "      <td>1</td>\n",
       "      <td>1</td>\n",
       "      <td>1</td>\n",
       "    </tr>\n",
       "    <tr>\n",
       "      <th>4</th>\n",
       "      <td>2</td>\n",
       "      <td>23</td>\n",
       "      <td>30</td>\n",
       "      <td>1</td>\n",
       "      <td>9</td>\n",
       "      <td>30.0</td>\n",
       "      <td>1</td>\n",
       "      <td>2</td>\n",
       "      <td>0.0</td>\n",
       "      <td>0</td>\n",
       "      <td>4</td>\n",
       "      <td>3</td>\n",
       "    </tr>\n",
       "  </tbody>\n",
       "</table>\n",
       "</div>"
      ],
      "text/plain": [
       "   region  tenure  age  marital  address  income  ed  employ  retire  gender  \\\n",
       "0       2      13   44        1        9    64.0   4       5     0.0       0   \n",
       "1       3      11   33        1        7   136.0   5       5     0.0       0   \n",
       "2       3      68   52        1       24   116.0   1      29     0.0       1   \n",
       "3       2      33   33        0       12    33.0   2       0     0.0       1   \n",
       "4       2      23   30        1        9    30.0   1       2     0.0       0   \n",
       "\n",
       "   reside  custcat  \n",
       "0       2        1  \n",
       "1       6        4  \n",
       "2       2        3  \n",
       "3       1        1  \n",
       "4       4        3  "
      ]
     },
     "execution_count": 6,
     "metadata": {},
     "output_type": "execute_result"
    }
   ],
   "source": [
    "# take a look at the dataset\n",
    "df.head()"
   ]
  },
  {
   "cell_type": "code",
   "execution_count": 7,
   "id": "1f2329ca",
   "metadata": {},
   "outputs": [
    {
     "name": "stdout",
     "output_type": "stream",
     "text": [
      "<class 'pandas.core.frame.DataFrame'>\n",
      "RangeIndex: 1000 entries, 0 to 999\n",
      "Data columns (total 12 columns):\n",
      " #   Column   Non-Null Count  Dtype  \n",
      "---  ------   --------------  -----  \n",
      " 0   region   1000 non-null   int64  \n",
      " 1   tenure   1000 non-null   int64  \n",
      " 2   age      1000 non-null   int64  \n",
      " 3   marital  1000 non-null   int64  \n",
      " 4   address  1000 non-null   int64  \n",
      " 5   income   1000 non-null   float64\n",
      " 6   ed       1000 non-null   int64  \n",
      " 7   employ   1000 non-null   int64  \n",
      " 8   retire   1000 non-null   float64\n",
      " 9   gender   1000 non-null   int64  \n",
      " 10  reside   1000 non-null   int64  \n",
      " 11  custcat  1000 non-null   int64  \n",
      "dtypes: float64(2), int64(10)\n",
      "memory usage: 93.9 KB\n"
     ]
    }
   ],
   "source": [
    "df.info()"
   ]
  },
  {
   "cell_type": "markdown",
   "id": "e42c7783",
   "metadata": {},
   "source": [
    "As we can see all variables are numerical"
   ]
  },
  {
   "cell_type": "code",
   "execution_count": 8,
   "id": "b52a92d0",
   "metadata": {},
   "outputs": [
    {
     "name": "stdout",
     "output_type": "stream",
     "text": [
      "There are 12 numerical features:\n",
      " ['region', 'tenure', 'age', 'marital', 'address', 'income', 'ed', 'employ', 'retire', 'gender', 'reside', 'custcat']\n"
     ]
    }
   ],
   "source": [
    "numCols = list(df.select_dtypes(exclude='object').columns)\n",
    "print(f\"There are {len(numCols)} numerical features:\\n\", numCols)"
   ]
  },
  {
   "cell_type": "code",
   "execution_count": 9,
   "id": "3479c61c",
   "metadata": {},
   "outputs": [
    {
     "name": "stdout",
     "output_type": "stream",
     "text": [
      "There are 0 categorical features:\n",
      " []\n"
     ]
    }
   ],
   "source": [
    "catCols = list(df.select_dtypes(include='object').columns)\n",
    "print(f\"There are {len(catCols)} categorical features:\\n\", catCols)"
   ]
  },
  {
   "cell_type": "markdown",
   "id": "ed6672fb",
   "metadata": {},
   "source": [
    "<a name='2'></a>\n",
    "# 2. Exploratory Data Analysis"
   ]
  },
  {
   "cell_type": "markdown",
   "id": "ba55cfea",
   "metadata": {},
   "source": [
    "<a name='2.1'></a>\n",
    "## 2.1 Dependent or Target Variable"
   ]
  },
  {
   "cell_type": "markdown",
   "id": "e21b61f0",
   "metadata": {},
   "source": [
    "There are four output categories which are , Basic-service (1), E-Service customers (2), Plus Service (3), and Total Service (4). Seems like these four categories equally distributed."
   ]
  },
  {
   "cell_type": "code",
   "execution_count": 10,
   "id": "38879409",
   "metadata": {},
   "outputs": [
    {
     "data": {
      "text/plain": [
       "3    281\n",
       "1    266\n",
       "4    236\n",
       "2    217\n",
       "Name: custcat, dtype: int64"
      ]
     },
     "execution_count": 10,
     "metadata": {},
     "output_type": "execute_result"
    }
   ],
   "source": [
    "df['custcat'].value_counts()"
   ]
  },
  {
   "cell_type": "markdown",
   "id": "ae8bf5a1",
   "metadata": {},
   "source": [
    "## 2.2 Independent or Response Variables"
   ]
  },
  {
   "cell_type": "code",
   "execution_count": 28,
   "id": "f0a655e5",
   "metadata": {},
   "outputs": [
    {
     "data": {
      "text/plain": [
       "array([[<AxesSubplot:title={'center':'income'}>]], dtype=object)"
      ]
     },
     "execution_count": 28,
     "metadata": {},
     "output_type": "execute_result"
    },
    {
     "data": {
      "image/png": "[encoded data removed]",
      "text/plain": [
       "<Figure size 432x288 with 1 Axes>"
      ]
     },
     "metadata": {
      "needs_background": "light"
     },
     "output_type": "display_data"
    }
   ],
   "source": [
    "df.hist(column='income', bins=50)"
   ]
  },
  {
   "cell_type": "code",
   "execution_count": null,
   "id": "74c60836",
   "metadata": {},
   "outputs": [],
   "source": []
  },
  {
   "cell_type": "markdown",
   "id": "eeaeb81b",
   "metadata": {},
   "source": [
    "<a name='1.5'></a>\n",
    "# 3. Data Preparation for Predictive Analysis"
   ]
  },
  {
   "cell_type": "markdown",
   "id": "1655e538",
   "metadata": {},
   "source": [
    "<a name='1.5'></a>\n",
    "## 3.1 Data Adjustment"
   ]
  },
  {
   "cell_type": "markdown",
   "id": "4ef00c4f",
   "metadata": {},
   "source": [
    "To use scikit-learn library, we have to convert the Pandas data frame to a Numpy array:"
   ]
  },
  {
   "cell_type": "code",
   "execution_count": 12,
   "id": "c7e89831",
   "metadata": {},
   "outputs": [
    {
     "data": {
      "text/html": [
       "<div>\n",
       "<style scoped>\n",
       "    .dataframe tbody tr th:only-of-type {\n",
       "        vertical-align: middle;\n",
       "    }\n",
       "\n",
       "    .dataframe tbody tr th {\n",
       "        vertical-align: top;\n",
       "    }\n",
       "\n",
       "    .dataframe thead th {\n",
       "        text-align: right;\n",
       "    }\n",
       "</style>\n",
       "<table border=\"1\" class=\"dataframe\">\n",
       "  <thead>\n",
       "    <tr style=\"text-align: right;\">\n",
       "      <th></th>\n",
       "      <th>region</th>\n",
       "      <th>tenure</th>\n",
       "      <th>age</th>\n",
       "      <th>marital</th>\n",
       "      <th>address</th>\n",
       "      <th>income</th>\n",
       "      <th>ed</th>\n",
       "      <th>employ</th>\n",
       "      <th>retire</th>\n",
       "      <th>gender</th>\n",
       "      <th>reside</th>\n",
       "      <th>custcat</th>\n",
       "    </tr>\n",
       "  </thead>\n",
       "  <tbody>\n",
       "    <tr>\n",
       "      <th>0</th>\n",
       "      <td>2</td>\n",
       "      <td>13</td>\n",
       "      <td>44</td>\n",
       "      <td>1</td>\n",
       "      <td>9</td>\n",
       "      <td>64.0</td>\n",
       "      <td>4</td>\n",
       "      <td>5</td>\n",
       "      <td>0.0</td>\n",
       "      <td>0</td>\n",
       "      <td>2</td>\n",
       "      <td>1</td>\n",
       "    </tr>\n",
       "    <tr>\n",
       "      <th>1</th>\n",
       "      <td>3</td>\n",
       "      <td>11</td>\n",
       "      <td>33</td>\n",
       "      <td>1</td>\n",
       "      <td>7</td>\n",
       "      <td>136.0</td>\n",
       "      <td>5</td>\n",
       "      <td>5</td>\n",
       "      <td>0.0</td>\n",
       "      <td>0</td>\n",
       "      <td>6</td>\n",
       "      <td>4</td>\n",
       "    </tr>\n",
       "    <tr>\n",
       "      <th>2</th>\n",
       "      <td>3</td>\n",
       "      <td>68</td>\n",
       "      <td>52</td>\n",
       "      <td>1</td>\n",
       "      <td>24</td>\n",
       "      <td>116.0</td>\n",
       "      <td>1</td>\n",
       "      <td>29</td>\n",
       "      <td>0.0</td>\n",
       "      <td>1</td>\n",
       "      <td>2</td>\n",
       "      <td>3</td>\n",
       "    </tr>\n",
       "  </tbody>\n",
       "</table>\n",
       "</div>"
      ],
      "text/plain": [
       "   region  tenure  age  marital  address  income  ed  employ  retire  gender  \\\n",
       "0       2      13   44        1        9    64.0   4       5     0.0       0   \n",
       "1       3      11   33        1        7   136.0   5       5     0.0       0   \n",
       "2       3      68   52        1       24   116.0   1      29     0.0       1   \n",
       "\n",
       "   reside  custcat  \n",
       "0       2        1  \n",
       "1       6        4  \n",
       "2       2        3  "
      ]
     },
     "execution_count": 12,
     "metadata": {},
     "output_type": "execute_result"
    }
   ],
   "source": [
    "df[0:3]"
   ]
  },
  {
   "cell_type": "code",
   "execution_count": 13,
   "id": "594118fd",
   "metadata": {},
   "outputs": [
    {
     "data": {
      "text/plain": [
       "array([[  2.,  13.,  44.,   1.,   9.,  64.,   4.,   5.,   0.,   0.,   2.],\n",
       "       [  3.,  11.,  33.,   1.,   7., 136.,   5.,   5.,   0.,   0.,   6.],\n",
       "       [  3.,  68.,  52.,   1.,  24., 116.,   1.,  29.,   0.,   1.,   2.],\n",
       "       [  2.,  33.,  33.,   0.,  12.,  33.,   2.,   0.,   0.,   1.,   1.],\n",
       "       [  2.,  23.,  30.,   1.,   9.,  30.,   1.,   2.,   0.,   0.,   4.]])"
      ]
     },
     "execution_count": 13,
     "metadata": {},
     "output_type": "execute_result"
    }
   ],
   "source": [
    "x = df[['region', 'tenure','age', 'marital', 'address', 'income', 'ed', 'employ','retire', 'gender', 'reside']] .values  #.astype(float)\n",
    "x[0:5]"
   ]
  },
  {
   "cell_type": "code",
   "execution_count": 14,
   "id": "50f09b78",
   "metadata": {},
   "outputs": [
    {
     "data": {
      "text/plain": [
       "array([1, 4, 3, 1, 3], dtype=int64)"
      ]
     },
     "execution_count": 14,
     "metadata": {},
     "output_type": "execute_result"
    }
   ],
   "source": [
    "y = df['custcat'].values\n",
    "y[0:5]"
   ]
  },
  {
   "cell_type": "markdown",
   "id": "bcb004e2",
   "metadata": {},
   "source": [
    "<a name='1.5'></a>\n",
    "## 3.2 Data Normalization (Standardization)"
   ]
  },
  {
   "cell_type": "markdown",
   "id": "cb67cf81",
   "metadata": {},
   "source": [
    "Normalize Data\n",
    "Data Standardization give data zero mean and unit variance, it is good practice, especially for algorithms such as KNN which is based on distance of cases:"
   ]
  },
  {
   "cell_type": "code",
   "execution_count": 15,
   "id": "3d146d01",
   "metadata": {},
   "outputs": [
    {
     "data": {
      "text/plain": [
       "array([[-0.02696767, -1.055125  ,  0.18450456,  1.0100505 , -0.25303431,\n",
       "        -0.12650641,  1.0877526 , -0.5941226 , -0.22207644, -1.03459817,\n",
       "        -0.23065004],\n",
       "       [ 1.19883553, -1.14880563, -0.69181243,  1.0100505 , -0.4514148 ,\n",
       "         0.54644972,  1.9062271 , -0.5941226 , -0.22207644, -1.03459817,\n",
       "         2.55666158],\n",
       "       [ 1.19883553,  1.52109247,  0.82182601,  1.0100505 ,  1.23481934,\n",
       "         0.35951747, -1.36767088,  1.78752803, -0.22207644,  0.96655883,\n",
       "        -0.23065004],\n",
       "       [-0.02696767, -0.11831864, -0.69181243, -0.9900495 ,  0.04453642,\n",
       "        -0.41625141, -0.54919639, -1.09029981, -0.22207644,  0.96655883,\n",
       "        -0.92747794],\n",
       "       [-0.02696767, -0.58672182, -0.93080797,  1.0100505 , -0.25303431,\n",
       "        -0.44429125, -1.36767088, -0.89182893, -0.22207644, -1.03459817,\n",
       "         1.16300577]])"
      ]
     },
     "execution_count": 15,
     "metadata": {},
     "output_type": "execute_result"
    }
   ],
   "source": [
    "x = preprocessing.StandardScaler().fit(x).transform(x.astype(float))\n",
    "x[0:5]"
   ]
  },
  {
   "cell_type": "markdown",
   "id": "37660bae",
   "metadata": {},
   "source": [
    "<a name='1.5'></a>\n",
    "## 3.3 Data Split"
   ]
  },
  {
   "cell_type": "code",
   "execution_count": 16,
   "id": "5d6f816e",
   "metadata": {},
   "outputs": [
    {
     "name": "stdout",
     "output_type": "stream",
     "text": [
      "train_x: (800, 11) (80.0%)\n",
      "train_y: (800,) (80.0%)\n",
      "test_x: (200, 11) (20.0%)\n",
      "test_y: (200,) (20.0%)\n"
     ]
    }
   ],
   "source": [
    "from sklearn.model_selection import train_test_split\n",
    "\n",
    "#80/20 split\n",
    "train_x, test_x, train_y, test_y = train_test_split( x, y, test_size=0.2, random_state=4)\n",
    "\n",
    "print(f'train_x: {train_x.shape} ({round(len(train_x)/len(df), 1) * 100}%)')\n",
    "print(f'train_y: {train_y.shape} ({round(len(train_y)/len(df), 1) * 100}%)')\n",
    "print(f'test_x: {test_x.shape} ({round(len(test_x)/len(df), 1) * 100}%)')\n",
    "print(f'test_y: {test_y.shape} ({round(len(test_y)/len(df), 1) * 100}%)')"
   ]
  },
  {
   "cell_type": "markdown",
   "id": "994332aa",
   "metadata": {},
   "source": [
    "<a name='4'></a>\n",
    "# 4. Model"
   ]
  },
  {
   "cell_type": "markdown",
   "id": "91dafca7",
   "metadata": {},
   "source": [
    "<a name='4'></a>\n",
    "## 4.1 Train"
   ]
  },
  {
   "cell_type": "code",
   "execution_count": 156,
   "id": "9b3b2a86",
   "metadata": {},
   "outputs": [
    {
     "data": {
      "text/plain": [
       "KNeighborsClassifier(n_neighbors=16)"
      ]
     },
     "execution_count": 156,
     "metadata": {},
     "output_type": "execute_result"
    }
   ],
   "source": [
    "from sklearn.neighbors import KNeighborsClassifier\n",
    "\n",
    "k = 16\n",
    "#Train Model and Predict  \n",
    "neigh = KNeighborsClassifier(n_neighbors = k).fit(train_x,train_y)\n",
    "neigh"
   ]
  },
  {
   "cell_type": "markdown",
   "id": "e74d0ef8",
   "metadata": {},
   "source": [
    "<a name='4'></a>\n",
    "## 4.2 Test"
   ]
  },
  {
   "cell_type": "code",
   "execution_count": 157,
   "id": "82c72847",
   "metadata": {},
   "outputs": [
    {
     "data": {
      "text/plain": [
       "array([3, 2, 4, 4, 4], dtype=int64)"
      ]
     },
     "execution_count": 157,
     "metadata": {},
     "output_type": "execute_result"
    }
   ],
   "source": [
    "yhat = neigh.predict(test_x)\n",
    "yhat[0:5]"
   ]
  },
  {
   "cell_type": "markdown",
   "id": "05c4e421",
   "metadata": {},
   "source": [
    "<a name='5'></a>\n",
    "# 5. Model Evaluation"
   ]
  },
  {
   "cell_type": "code",
   "execution_count": 158,
   "id": "5dc6117f",
   "metadata": {},
   "outputs": [
    {
     "name": "stdout",
     "output_type": "stream",
     "text": [
      "Train set Accuracy:  0.45375\n",
      "Test set Accuracy:  0.36\n"
     ]
    }
   ],
   "source": [
    "from sklearn import metrics\n",
    "print(\"Train set Accuracy: \", metrics.accuracy_score(train_y, neigh.predict(train_x)))\n",
    "print(\"Test set Accuracy: \", metrics.accuracy_score(test_y, yhat))"
   ]
  },
  {
   "cell_type": "markdown",
   "id": "b8dc4e57",
   "metadata": {},
   "source": [
    "<a name='5'></a>\n",
    "# 6. K between 1 and 50 (Model Train, Model Test, Model Evaluation)"
   ]
  },
  {
   "cell_type": "code",
   "execution_count": 154,
   "id": "56194d34",
   "metadata": {},
   "outputs": [
    {
     "data": {
      "image/png": "[encoded data removed]",
      "text/plain": [
       "<Figure size 936x216 with 1 Axes>"
      ]
     },
     "metadata": {
      "needs_background": "light"
     },
     "output_type": "display_data"
    }
   ],
   "source": [
    "from sklearn.neighbors import KNeighborsClassifier\n",
    "\n",
    "k_range = range(1,50)\n",
    "accuracy = []\n",
    "#Train Model and Predict  \n",
    "for k in k_range:\n",
    "    neigh = KNeighborsClassifier(n_neighbors = k).fit(train_x, train_y)\n",
    "    yhat_train = neigh.predict(train_x)\n",
    "    accuracy.append(metrics.accuracy_score(train_y, yhat_train))\n",
    "    \n",
    "plt.figure(figsize=(13,3))\n",
    "plt.xlabel('K')\n",
    "plt.ylabel('Accuracy')\n",
    "plt.scatter(k_range, accuracy, color='purple')\n",
    "plt.plot(k_range, accuracy, color='pink')\n",
    "plt.xticks(range(0,50));"
   ]
  },
  {
   "cell_type": "code",
   "execution_count": 155,
   "id": "5ed0ba5b",
   "metadata": {},
   "outputs": [
    {
     "data": {
      "image/png": "[encoded data removed]",
      "text/plain": [
       "<Figure size 936x216 with 1 Axes>"
      ]
     },
     "metadata": {
      "needs_background": "light"
     },
     "output_type": "display_data"
    }
   ],
   "source": [
    "from sklearn.neighbors import KNeighborsClassifier\n",
    "\n",
    "k_range = range(1,50)\n",
    "accuracy = []\n",
    "#Train Model and Predict  \n",
    "for k in k_range:\n",
    "    neigh = KNeighborsClassifier(n_neighbors = k).fit(train_x, train_y)\n",
    "    yhat = neigh.predict(test_x)\n",
    "    accuracy.append(metrics.accuracy_score(test_y, yhat))\n",
    "    \n",
    "plt.figure(figsize=(13,3))\n",
    "plt.xlabel('K')\n",
    "plt.ylabel('Accuracy')\n",
    "plt.scatter(k_range, accuracy, color='purple')\n",
    "plt.plot(k_range, accuracy, color='pink')\n",
    "plt.xticks(range(0,50));"
   ]
  },
  {
   "cell_type": "markdown",
   "id": "c47957d1",
   "metadata": {},
   "source": [
    "<a name='5'></a>\n",
    "# 7. Conclusion"
   ]
  },
  {
   "cell_type": "markdown",
   "id": "01c52a37",
   "metadata": {},
   "source": [
    "It shown that looping the value K is a better way to find the optimum value. From the model we can know that we get the optimum value when the K is 38. The train and test accuracy reached 42.75% and 41.00% respectively"
   ]
  },
  {
   "cell_type": "code",
   "execution_count": 168,
   "id": "6fda66fa",
   "metadata": {},
   "outputs": [
    {
     "name": "stdout",
     "output_type": "stream",
     "text": [
      "Train set Accuracy:  0.4275\n",
      "Test set Accuracy:  0.41\n"
     ]
    }
   ],
   "source": [
    "neigh = KNeighborsClassifier(n_neighbors = 38).fit(train_x,train_y)\n",
    "yhat = neigh.predict(test_x)\n",
    "print(\"Train set Accuracy: \", metrics.accuracy_score(train_y, neigh.predict(train_x)))\n",
    "print(\"Test set Accuracy: \", metrics.accuracy_score(test_y, yhat))"
   ]
  },
  {
   "cell_type": "code",
   "execution_count": 169,
   "id": "591d45fe",
   "metadata": {},
   "outputs": [
    {
     "data": {
      "text/plain": [
       "DecisionTreeClassifier(criterion='entropy', max_depth=4)"
      ]
     },
     "execution_count": 169,
     "metadata": {},
     "output_type": "execute_result"
    }
   ],
   "source": [
    "from sklearn.tree import DecisionTreeClassifier\n",
    "drugTree = DecisionTreeClassifier(criterion=\"entropy\", max_depth = 4)\n",
    "drugTree # it shows the default parameters"
   ]
  },
  {
   "cell_type": "code",
   "execution_count": 170,
   "id": "d0829a80",
   "metadata": {},
   "outputs": [
    {
     "data": {
      "text/plain": [
       "DecisionTreeClassifier(criterion='entropy', max_depth=4)"
      ]
     },
     "execution_count": 170,
     "metadata": {},
     "output_type": "execute_result"
    }
   ],
   "source": [
    "drugTree.fit(train_x,train_y)"
   ]
  },
  {
   "cell_type": "code",
   "execution_count": 171,
   "id": "66ea0e7f",
   "metadata": {},
   "outputs": [],
   "source": [
    "predTree = drugTree.predict(test_x)"
   ]
  },
  {
   "cell_type": "code",
   "execution_count": 172,
   "id": "4b1f82a3",
   "metadata": {},
   "outputs": [
    {
     "name": "stdout",
     "output_type": "stream",
     "text": [
      "[1 1 4 4 4 2 3 1 3]\n",
      "[4 1 1 2 4 4 3 1 3]\n"
     ]
    }
   ],
   "source": [
    "print (predTree [0:9])\n",
    "print (test_y [0:9])"
   ]
  },
  {
   "cell_type": "code",
   "execution_count": 173,
   "id": "03613888",
   "metadata": {},
   "outputs": [
    {
     "name": "stdout",
     "output_type": "stream",
     "text": [
      "DecisionTrees's Accuracy:  0.375\n"
     ]
    }
   ],
   "source": [
    "from sklearn import metrics\n",
    "import matplotlib.pyplot as plt\n",
    "print(\"DecisionTrees's Accuracy: \", metrics.accuracy_score(test_y, predTree))"
   ]
  },
  {
   "cell_type": "code",
   "execution_count": null,
   "id": "e34fec39",
   "metadata": {},
   "outputs": [],
   "source": []
  }
 ],
 "metadata": {
  "kernelspec": {
   "display_name": "Python 3 (ipykernel)",
   "language": "python",
   "name": "python3"
  },
  "language_info": {
   "codemirror_mode": {
    "name": "ipython",
    "version": 3
   },
   "file_extension": ".py",
   "mimetype": "text/x-python",
   "name": "python",
   "nbconvert_exporter": "python",
   "pygments_lexer": "ipython3",
   "version": "3.9.12"
  }
 },
 "nbformat": 4,
 "nbformat_minor": 5
}
